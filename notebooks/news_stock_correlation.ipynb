{
 "cells": [
  {
   "cell_type": "markdown",
   "id": "043eb28a",
   "metadata": {},
   "source": [
    "# Correlation Between News Sentiment and Stock Movements\n",
    "This notebook demonstrates how to analyze the correlation between news headline sentiment and stock price movements using modular functions."
   ]
  },
  {
   "cell_type": "code",
   "execution_count": 4,
   "id": "5b15f325",
   "metadata": {},
   "outputs": [],
   "source": [
    "# Import required libraries and custom modules\n",
    "import pandas as pd\n",
    "import sys\n",
    "import os\n",
    "sys.path.append(os.path.abspath(\"..\"))\n",
    "from src.news_stock_correlation import (\n",
    "    normalize_dates, compute_sentiment, aggregate_daily_sentiment,\n",
    "    compute_daily_returns, merge_sentiment_returns, compute_correlation\n",
    ")  "
   ]
  },
  {
   "cell_type": "markdown",
   "id": "4eacfa37",
   "metadata": {},
   "source": [
    "## 1. Load News and Stock Data\n",
    "Place your news data (CSV) and stock price data (CSV) in the `data/` directory. Adjust file paths as needed."
   ]
  },
  {
   "cell_type": "code",
   "execution_count": 5,
   "id": "67611852",
   "metadata": {},
   "outputs": [
    {
     "data": {
      "text/plain": [
       "(   Unnamed: 0                                           headline  \\\n",
       " 0           0            Stocks That Hit 52-Week Highs On Friday   \n",
       " 1           1         Stocks That Hit 52-Week Highs On Wednesday   \n",
       " 2           2                      71 Biggest Movers From Friday   \n",
       " 3           3       46 Stocks Moving In Friday's Mid-Day Session   \n",
       " 4           4  B of A Securities Maintains Neutral on Agilent...   \n",
       " \n",
       "                                                  url          publisher  \\\n",
       " 0  https://www.benzinga.com/news/20/06/16190091/s...  Benzinga Insights   \n",
       " 1  https://www.benzinga.com/news/20/06/16170189/s...  Benzinga Insights   \n",
       " 2  https://www.benzinga.com/news/20/05/16103463/7...         Lisa Levin   \n",
       " 3  https://www.benzinga.com/news/20/05/16095921/4...         Lisa Levin   \n",
       " 4  https://www.benzinga.com/news/20/05/16095304/b...         Vick Meyer   \n",
       " \n",
       "                         date stock  \n",
       " 0  2020-06-05 10:30:54-04:00     A  \n",
       " 1  2020-06-03 10:45:20-04:00     A  \n",
       " 2  2020-05-26 04:30:07-04:00     A  \n",
       " 3  2020-05-22 12:45:06-04:00     A  \n",
       " 4  2020-05-22 11:38:59-04:00     A  ,\n",
       "          Date      Open      High       Low     Close  Adj Close     Volume  \\\n",
       " 0  1980-12-12  0.128348  0.128906  0.128348  0.128348   0.098943  469033600   \n",
       " 1  1980-12-15  0.122210  0.122210  0.121652  0.121652   0.093781  175884800   \n",
       " 2  1980-12-16  0.113281  0.113281  0.112723  0.112723   0.086898  105728000   \n",
       " 3  1980-12-17  0.115513  0.116071  0.115513  0.115513   0.089049   86441600   \n",
       " 4  1980-12-18  0.118862  0.119420  0.118862  0.118862   0.091630   73449600   \n",
       " \n",
       "    Dividends  Stock Splits  \n",
       " 0        0.0           0.0  \n",
       " 1        0.0           0.0  \n",
       " 2        0.0           0.0  \n",
       " 3        0.0           0.0  \n",
       " 4        0.0           0.0  )"
      ]
     },
     "execution_count": 5,
     "metadata": {},
     "output_type": "execute_result"
    }
   ],
   "source": [
    "# Example file paths (update as needed)\n",
    "news_path = '../data/raw_analyst_ratings.csv'\n",
    "stock_path = '../data/yfinance_data/AAPL_historical_data.csv'\n",
    "\n",
    "# Load data\n",
    "news_df = pd.read_csv(news_path)\n",
    "stock_df = pd.read_csv(stock_path)\n",
    "\n",
    "# Display first few rows\n",
    "news_df.head(), stock_df.head()"
   ]
  },
  {
   "cell_type": "markdown",
   "id": "7188d335",
   "metadata": {},
   "source": [
    "## 2. Normalize Dates\n",
    "Align date columns in both datasets for accurate merging."
   ]
  },
  {
   "cell_type": "code",
   "execution_count": 6,
   "id": "6e77c5e5",
   "metadata": {},
   "outputs": [],
   "source": [
    "# Normalize date columns\n",
    "news_df = normalize_dates(news_df, 'date')\n",
    "stock_df = normalize_dates(stock_df, 'Date')"
   ]
  },
  {
   "cell_type": "markdown",
   "id": "3392c75c",
   "metadata": {},
   "source": [
    "## 3. Sentiment Analysis on News Headlines\n",
    "Assign sentiment polarity scores to each news headline."
   ]
  },
  {
   "cell_type": "code",
   "execution_count": null,
   "id": "76f0386a",
   "metadata": {},
   "outputs": [],
   "source": [
    "# Compute sentiment scores\n",
    "news_df = compute_sentiment(news_df, text_col='headline')\n",
    "news_df[[\"date\", \"headline\", \"sentiment\"]].head()"
   ]
  },
  {
   "cell_type": "markdown",
   "id": "3d9c53df",
   "metadata": {},
   "source": [
    "## 4. Aggregate Daily Sentiment\n",
    "Calculate the average sentiment score for each day."
   ]
  },
  {
   "cell_type": "code",
   "execution_count": null,
   "id": "85e24e17",
   "metadata": {},
   "outputs": [],
   "source": [
    "# Aggregate daily sentiment\n",
    "sentiment_daily = aggregate_daily_sentiment(news_df, date_col='date')\n",
    "sentiment_daily.head()"
   ]
  },
  {
   "cell_type": "markdown",
   "id": "a781c509",
   "metadata": {},
   "source": [
    "## 5. Calculate Daily Stock Returns\n",
    "Compute daily percentage changes in closing prices."
   ]
  },
  {
   "cell_type": "code",
   "execution_count": null,
   "id": "e41d1366",
   "metadata": {},
   "outputs": [],
   "source": [
    "# Compute daily returns\n",
    "returns_daily = compute_daily_returns(stock_df, date_col='Date', price_col='Close')\n",
    "returns_daily.head()"
   ]
  },
  {
   "cell_type": "markdown",
   "id": "9a4ebb2f",
   "metadata": {},
   "source": [
    "## 6. Merge Sentiment and Returns by Date\n",
    "Combine the two datasets for correlation analysis."
   ]
  },
  {
   "cell_type": "code",
   "execution_count": null,
   "id": "d2d7b278",
   "metadata": {},
   "outputs": [],
   "source": [
    "# Merge on date\n",
    "merged = merge_sentiment_returns(sentiment_daily, returns_daily, date_col='date')\n",
    "merged.head()"
   ]
  },
  {
   "cell_type": "markdown",
   "id": "1a202f8d",
   "metadata": {},
   "source": [
    "## 7. Correlation Analysis\n",
    "Calculate the Pearson correlation coefficient between average daily sentiment and stock returns."
   ]
  },
  {
   "cell_type": "code",
   "execution_count": null,
   "id": "c2728f99",
   "metadata": {},
   "outputs": [],
   "source": [
    "# Compute correlation\n",
    "corr, pval = compute_correlation(merged)\n",
    "print(f\"Pearson correlation: {corr:.3f} (p-value: {pval:.3g})\")"
   ]
  },
  {
   "cell_type": "markdown",
   "id": "75d3c30e",
   "metadata": {},
   "source": [
    "## 8. Visualize the Relationship\n",
    "(Optional) Plot the relationship between daily sentiment and stock returns."
   ]
  },
  {
   "cell_type": "code",
   "execution_count": null,
   "id": "2b9cd461",
   "metadata": {},
   "outputs": [],
   "source": [
    "import matplotlib.pyplot as plt\n",
    "\n",
    "plt.figure(figsize=(8,5))\n",
    "plt.scatter(merged['avg_sentiment'], merged['daily_return'], alpha=0.6)\n",
    "plt.xlabel('Average Daily Sentiment')\n",
    "plt.ylabel('Daily Stock Return')\n",
    "plt.title('Sentiment vs. Stock Return')\n",
    "plt.grid(True)\n",
    "plt.show()"
   ]
  },
  {
   "cell_type": "markdown",
   "id": "b3c5ef03",
   "metadata": {},
   "source": [
    "---\n",
    "### References\n",
    "- [TextBlob Documentation](https://textblob.readthedocs.io/en/dev/)\n",
    "- [Pearson Correlation (scipy)](https://docs.scipy.org/doc/scipy/reference/generated/scipy.stats.pearsonr.html)"
   ]
  }
 ],
 "metadata": {
  "kernelspec": {
   "display_name": ".venv312",
   "language": "python",
   "name": "python3"
  },
  "language_info": {
   "codemirror_mode": {
    "name": "ipython",
    "version": 3
   },
   "file_extension": ".py",
   "mimetype": "text/x-python",
   "name": "python",
   "nbconvert_exporter": "python",
   "pygments_lexer": "ipython3",
   "version": "3.12.0"
  }
 },
 "nbformat": 4,
 "nbformat_minor": 5
}
