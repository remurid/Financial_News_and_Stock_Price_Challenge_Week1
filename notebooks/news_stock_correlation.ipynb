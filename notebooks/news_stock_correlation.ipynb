{
 "cells": [
  {
   "cell_type": "markdown",
   "id": "043eb28a",
   "metadata": {},
   "source": [
    "# Correlation Between News Sentiment and Stock Movements\n",
    "This notebook demonstrates how to analyze the correlation between news headline sentiment and stock price movements using modular functions."
   ]
  },
  {
   "cell_type": "code",
   "execution_count": 1,
   "id": "5b15f325",
   "metadata": {},
   "outputs": [],
   "source": [
    "# Import required libraries and custom modules\n",
    "import pandas as pd\n",
    "import sys\n",
    "import os\n",
    "sys.path.append(os.path.abspath(\"..\"))\n",
    "from src.news_stock_correlation import (\n",
    "    normalize_dates, compute_sentiment, aggregate_daily_sentiment,\n",
    "    compute_daily_returns, merge_sentiment_returns, compute_correlation\n",
    ")  "
   ]
  },
  {
   "cell_type": "markdown",
   "id": "4eacfa37",
   "metadata": {},
   "source": [
    "## 1. Load News and Stock Data\n",
    "Place your news data (CSV) and stock price data (CSV) in the `data/` directory. Adjust file paths as needed."
   ]
  },
  {
   "cell_type": "code",
   "execution_count": 2,
   "id": "67611852",
   "metadata": {},
   "outputs": [
    {
     "data": {
      "text/plain": [
       "(   Unnamed: 0                                           headline  \\\n",
       " 0           0            Stocks That Hit 52-Week Highs On Friday   \n",
       " 1           1         Stocks That Hit 52-Week Highs On Wednesday   \n",
       " 2           2                      71 Biggest Movers From Friday   \n",
       " 3           3       46 Stocks Moving In Friday's Mid-Day Session   \n",
       " 4           4  B of A Securities Maintains Neutral on Agilent...   \n",
       " \n",
       "                                                  url          publisher  \\\n",
       " 0  https://www.benzinga.com/news/20/06/16190091/s...  Benzinga Insights   \n",
       " 1  https://www.benzinga.com/news/20/06/16170189/s...  Benzinga Insights   \n",
       " 2  https://www.benzinga.com/news/20/05/16103463/7...         Lisa Levin   \n",
       " 3  https://www.benzinga.com/news/20/05/16095921/4...         Lisa Levin   \n",
       " 4  https://www.benzinga.com/news/20/05/16095304/b...         Vick Meyer   \n",
       " \n",
       "                         date stock  \n",
       " 0  2020-06-05 10:30:54-04:00     A  \n",
       " 1  2020-06-03 10:45:20-04:00     A  \n",
       " 2  2020-05-26 04:30:07-04:00     A  \n",
       " 3  2020-05-22 12:45:06-04:00     A  \n",
       " 4  2020-05-22 11:38:59-04:00     A  ,\n",
       "          Date      Open      High       Low     Close  Adj Close     Volume  \\\n",
       " 0  1980-12-12  0.128348  0.128906  0.128348  0.128348   0.098943  469033600   \n",
       " 1  1980-12-15  0.122210  0.122210  0.121652  0.121652   0.093781  175884800   \n",
       " 2  1980-12-16  0.113281  0.113281  0.112723  0.112723   0.086898  105728000   \n",
       " 3  1980-12-17  0.115513  0.116071  0.115513  0.115513   0.089049   86441600   \n",
       " 4  1980-12-18  0.118862  0.119420  0.118862  0.118862   0.091630   73449600   \n",
       " \n",
       "    Dividends  Stock Splits  \n",
       " 0        0.0           0.0  \n",
       " 1        0.0           0.0  \n",
       " 2        0.0           0.0  \n",
       " 3        0.0           0.0  \n",
       " 4        0.0           0.0  )"
      ]
     },
     "execution_count": 2,
     "metadata": {},
     "output_type": "execute_result"
    }
   ],
   "source": [
    "# Example file paths (update as needed)\n",
    "news_path = '../data/raw_analyst_ratings.csv'\n",
    "stock_path = '../data/yfinance_data/AAPL_historical_data.csv'\n",
    "\n",
    "# Load data\n",
    "news_df = pd.read_csv(news_path)\n",
    "stock_df = pd.read_csv(stock_path)\n",
    "\n",
    "# Display first few rows\n",
    "news_df.head(), stock_df.head()"
   ]
  },
  {
   "cell_type": "markdown",
   "id": "7188d335",
   "metadata": {},
   "source": [
    "## 2. Normalize Dates\n",
    "Align date columns in both datasets for accurate merging."
   ]
  },
  {
   "cell_type": "code",
   "execution_count": 3,
   "id": "6e77c5e5",
   "metadata": {},
   "outputs": [],
   "source": [
    "# Normalize date columns\n",
    "news_df = normalize_dates(news_df, 'date')\n",
    "stock_df = normalize_dates(stock_df, 'Date')"
   ]
  },
  {
   "cell_type": "markdown",
   "id": "3392c75c",
   "metadata": {},
   "source": [
    "## 3. Sentiment Analysis on News Headlines\n",
    "Assign sentiment polarity scores to each news headline."
   ]
  },
  {
   "cell_type": "code",
   "execution_count": 4,
   "id": "76f0386a",
   "metadata": {},
   "outputs": [
    {
     "data": {
      "application/vnd.microsoft.datawrangler.viewer.v0+json": {
       "columns": [
        {
         "name": "index",
         "rawType": "int64",
         "type": "integer"
        },
        {
         "name": "date",
         "rawType": "datetime64[ns]",
         "type": "datetime"
        },
        {
         "name": "headline",
         "rawType": "object",
         "type": "string"
        },
        {
         "name": "sentiment",
         "rawType": "float64",
         "type": "float"
        }
       ],
       "ref": "e46e9220-c087-414f-99a1-92cbf73e70b3",
       "rows": [
        [
         "0",
         "2020-06-05 10:30:54",
         "Stocks That Hit 52-Week Highs On Friday",
         "0.0"
        ],
        [
         "1",
         "2020-06-03 10:45:20",
         "Stocks That Hit 52-Week Highs On Wednesday",
         "0.0"
        ],
        [
         "2",
         "2020-05-26 04:30:07",
         "71 Biggest Movers From Friday",
         "0.0"
        ],
        [
         "3",
         "2020-05-22 12:45:06",
         "46 Stocks Moving In Friday's Mid-Day Session",
         "0.0"
        ],
        [
         "4",
         "2020-05-22 11:38:59",
         "B of A Securities Maintains Neutral on Agilent Technologies, Raises Price Target to $88",
         "0.0"
        ]
       ],
       "shape": {
        "columns": 3,
        "rows": 5
       }
      },
      "text/html": [
       "<div>\n",
       "<style scoped>\n",
       "    .dataframe tbody tr th:only-of-type {\n",
       "        vertical-align: middle;\n",
       "    }\n",
       "\n",
       "    .dataframe tbody tr th {\n",
       "        vertical-align: top;\n",
       "    }\n",
       "\n",
       "    .dataframe thead th {\n",
       "        text-align: right;\n",
       "    }\n",
       "</style>\n",
       "<table border=\"1\" class=\"dataframe\">\n",
       "  <thead>\n",
       "    <tr style=\"text-align: right;\">\n",
       "      <th></th>\n",
       "      <th>date</th>\n",
       "      <th>headline</th>\n",
       "      <th>sentiment</th>\n",
       "    </tr>\n",
       "  </thead>\n",
       "  <tbody>\n",
       "    <tr>\n",
       "      <th>0</th>\n",
       "      <td>2020-06-05 10:30:54</td>\n",
       "      <td>Stocks That Hit 52-Week Highs On Friday</td>\n",
       "      <td>0.0</td>\n",
       "    </tr>\n",
       "    <tr>\n",
       "      <th>1</th>\n",
       "      <td>2020-06-03 10:45:20</td>\n",
       "      <td>Stocks That Hit 52-Week Highs On Wednesday</td>\n",
       "      <td>0.0</td>\n",
       "    </tr>\n",
       "    <tr>\n",
       "      <th>2</th>\n",
       "      <td>2020-05-26 04:30:07</td>\n",
       "      <td>71 Biggest Movers From Friday</td>\n",
       "      <td>0.0</td>\n",
       "    </tr>\n",
       "    <tr>\n",
       "      <th>3</th>\n",
       "      <td>2020-05-22 12:45:06</td>\n",
       "      <td>46 Stocks Moving In Friday's Mid-Day Session</td>\n",
       "      <td>0.0</td>\n",
       "    </tr>\n",
       "    <tr>\n",
       "      <th>4</th>\n",
       "      <td>2020-05-22 11:38:59</td>\n",
       "      <td>B of A Securities Maintains Neutral on Agilent...</td>\n",
       "      <td>0.0</td>\n",
       "    </tr>\n",
       "  </tbody>\n",
       "</table>\n",
       "</div>"
      ],
      "text/plain": [
       "                 date                                           headline  \\\n",
       "0 2020-06-05 10:30:54            Stocks That Hit 52-Week Highs On Friday   \n",
       "1 2020-06-03 10:45:20         Stocks That Hit 52-Week Highs On Wednesday   \n",
       "2 2020-05-26 04:30:07                      71 Biggest Movers From Friday   \n",
       "3 2020-05-22 12:45:06       46 Stocks Moving In Friday's Mid-Day Session   \n",
       "4 2020-05-22 11:38:59  B of A Securities Maintains Neutral on Agilent...   \n",
       "\n",
       "   sentiment  \n",
       "0        0.0  \n",
       "1        0.0  \n",
       "2        0.0  \n",
       "3        0.0  \n",
       "4        0.0  "
      ]
     },
     "execution_count": 4,
     "metadata": {},
     "output_type": "execute_result"
    }
   ],
   "source": [
    "# Compute sentiment scores\n",
    "news_df = compute_sentiment(news_df, text_col='headline')\n",
    "news_df[[\"date\", \"headline\", \"sentiment\"]].head()"
   ]
  },
  {
   "cell_type": "markdown",
   "id": "3d9c53df",
   "metadata": {},
   "source": [
    "## 4. Plot 1: Sentiment Score Histogram\n",
    "Visualize the distribution of sentiment scores across all news headlines."
   ]
  },
  {
   "cell_type": "code",
   "execution_count": null,
   "id": "66815753",
   "metadata": {},
   "outputs": [],
   "source": [
    "import matplotlib.pyplot as plt\n",
    "plt.figure(figsize=(7,4))\n",
    "news_df['sentiment'].hist(bins=30, color='skyblue', edgecolor='black')\n",
    "plt.title('Distribution of Sentiment Scores')\n",
    "plt.xlabel('Sentiment Polarity')\n",
    "plt.ylabel('Frequency')\n",
    "plt.tight_layout()\n",
    "plt.show()"
   ]
  },
  {
   "cell_type": "markdown",
   "id": "d0a10e8b",
   "metadata": {},
   "source": [
    "## 5. Aggregate Daily Sentiment\n",
    "Calculate the average sentiment score for each day."
   ]
  },
  {
   "cell_type": "code",
   "execution_count": 5,
   "id": "85e24e17",
   "metadata": {},
   "outputs": [
    {
     "data": {
      "application/vnd.microsoft.datawrangler.viewer.v0+json": {
       "columns": [
        {
         "name": "index",
         "rawType": "int64",
         "type": "integer"
        },
        {
         "name": "date",
         "rawType": "datetime64[ns]",
         "type": "datetime"
        },
        {
         "name": "avg_sentiment",
         "rawType": "float64",
         "type": "float"
        }
       ],
       "ref": "968ae5f8-fa57-4d81-8df5-5d71de3a248f",
       "rows": [
        [
         "0",
         "2011-04-27 21:01:48",
         "0.0"
        ],
        [
         "1",
         "2011-04-28 13:49:29",
         "0.13636363636363635"
        ],
        [
         "2",
         "2011-04-28 15:00:36",
         "0.0"
        ],
        [
         "3",
         "2011-04-29 13:47:06",
         "-0.16666666666666666"
        ],
        [
         "4",
         "2011-04-29 16:11:05",
         "0.5"
        ]
       ],
       "shape": {
        "columns": 2,
        "rows": 5
       }
      },
      "text/html": [
       "<div>\n",
       "<style scoped>\n",
       "    .dataframe tbody tr th:only-of-type {\n",
       "        vertical-align: middle;\n",
       "    }\n",
       "\n",
       "    .dataframe tbody tr th {\n",
       "        vertical-align: top;\n",
       "    }\n",
       "\n",
       "    .dataframe thead th {\n",
       "        text-align: right;\n",
       "    }\n",
       "</style>\n",
       "<table border=\"1\" class=\"dataframe\">\n",
       "  <thead>\n",
       "    <tr style=\"text-align: right;\">\n",
       "      <th></th>\n",
       "      <th>date</th>\n",
       "      <th>avg_sentiment</th>\n",
       "    </tr>\n",
       "  </thead>\n",
       "  <tbody>\n",
       "    <tr>\n",
       "      <th>0</th>\n",
       "      <td>2011-04-27 21:01:48</td>\n",
       "      <td>0.000000</td>\n",
       "    </tr>\n",
       "    <tr>\n",
       "      <th>1</th>\n",
       "      <td>2011-04-28 13:49:29</td>\n",
       "      <td>0.136364</td>\n",
       "    </tr>\n",
       "    <tr>\n",
       "      <th>2</th>\n",
       "      <td>2011-04-28 15:00:36</td>\n",
       "      <td>0.000000</td>\n",
       "    </tr>\n",
       "    <tr>\n",
       "      <th>3</th>\n",
       "      <td>2011-04-29 13:47:06</td>\n",
       "      <td>-0.166667</td>\n",
       "    </tr>\n",
       "    <tr>\n",
       "      <th>4</th>\n",
       "      <td>2011-04-29 16:11:05</td>\n",
       "      <td>0.500000</td>\n",
       "    </tr>\n",
       "  </tbody>\n",
       "</table>\n",
       "</div>"
      ],
      "text/plain": [
       "                 date  avg_sentiment\n",
       "0 2011-04-27 21:01:48       0.000000\n",
       "1 2011-04-28 13:49:29       0.136364\n",
       "2 2011-04-28 15:00:36       0.000000\n",
       "3 2011-04-29 13:47:06      -0.166667\n",
       "4 2011-04-29 16:11:05       0.500000"
      ]
     },
     "execution_count": 5,
     "metadata": {},
     "output_type": "execute_result"
    }
   ],
   "source": [
    "# Aggregate daily sentiment\n",
    "sentiment_daily = aggregate_daily_sentiment(news_df, date_col='date')\n",
    "sentiment_daily.head()"
   ]
  },
  {
   "cell_type": "markdown",
   "id": "a781c509",
   "metadata": {},
   "source": [
    "## 6. Calculate Daily Stock Returns\n",
    "Compute daily percentage changes in closing prices."
   ]
  },
  {
   "cell_type": "code",
   "execution_count": 6,
   "id": "e41d1366",
   "metadata": {},
   "outputs": [
    {
     "data": {
      "application/vnd.microsoft.datawrangler.viewer.v0+json": {
       "columns": [
        {
         "name": "index",
         "rawType": "int64",
         "type": "integer"
        },
        {
         "name": "Date",
         "rawType": "datetime64[ns]",
         "type": "datetime"
        },
        {
         "name": "daily_return",
         "rawType": "float64",
         "type": "float"
        }
       ],
       "ref": "038aaaf8-dc5d-46c2-9fa8-222cd2f50d4d",
       "rows": [
        [
         "0",
         "1980-12-12 00:00:00",
         null
        ],
        [
         "1",
         "1980-12-15 00:00:00",
         "-0.0521706112694712"
        ],
        [
         "2",
         "1980-12-16 00:00:00",
         "-0.07339788355543386"
        ],
        [
         "3",
         "1980-12-17 00:00:00",
         "0.024750907585714632"
        ],
        [
         "4",
         "1980-12-18 00:00:00",
         "0.028992462021794507"
        ]
       ],
       "shape": {
        "columns": 2,
        "rows": 5
       }
      },
      "text/html": [
       "<div>\n",
       "<style scoped>\n",
       "    .dataframe tbody tr th:only-of-type {\n",
       "        vertical-align: middle;\n",
       "    }\n",
       "\n",
       "    .dataframe tbody tr th {\n",
       "        vertical-align: top;\n",
       "    }\n",
       "\n",
       "    .dataframe thead th {\n",
       "        text-align: right;\n",
       "    }\n",
       "</style>\n",
       "<table border=\"1\" class=\"dataframe\">\n",
       "  <thead>\n",
       "    <tr style=\"text-align: right;\">\n",
       "      <th></th>\n",
       "      <th>Date</th>\n",
       "      <th>daily_return</th>\n",
       "    </tr>\n",
       "  </thead>\n",
       "  <tbody>\n",
       "    <tr>\n",
       "      <th>0</th>\n",
       "      <td>1980-12-12</td>\n",
       "      <td>NaN</td>\n",
       "    </tr>\n",
       "    <tr>\n",
       "      <th>1</th>\n",
       "      <td>1980-12-15</td>\n",
       "      <td>-0.052171</td>\n",
       "    </tr>\n",
       "    <tr>\n",
       "      <th>2</th>\n",
       "      <td>1980-12-16</td>\n",
       "      <td>-0.073398</td>\n",
       "    </tr>\n",
       "    <tr>\n",
       "      <th>3</th>\n",
       "      <td>1980-12-17</td>\n",
       "      <td>0.024751</td>\n",
       "    </tr>\n",
       "    <tr>\n",
       "      <th>4</th>\n",
       "      <td>1980-12-18</td>\n",
       "      <td>0.028992</td>\n",
       "    </tr>\n",
       "  </tbody>\n",
       "</table>\n",
       "</div>"
      ],
      "text/plain": [
       "        Date  daily_return\n",
       "0 1980-12-12           NaN\n",
       "1 1980-12-15     -0.052171\n",
       "2 1980-12-16     -0.073398\n",
       "3 1980-12-17      0.024751\n",
       "4 1980-12-18      0.028992"
      ]
     },
     "execution_count": 6,
     "metadata": {},
     "output_type": "execute_result"
    }
   ],
   "source": [
    "# Compute daily returns\n",
    "returns_daily = compute_daily_returns(stock_df, date_col='Date', price_col='Close')\n",
    "returns_daily.head()"
   ]
  },
  {
   "cell_type": "markdown",
   "id": "b5ad7c80",
   "metadata": {},
   "source": [
    "## 7. Merge Sentiment and Returns by Date\n",
    "Combine the two datasets for correlation analysis."
   ]
  },
  {
   "cell_type": "code",
   "execution_count": 7,
   "id": "d2d7b278",
   "metadata": {},
   "outputs": [
    {
     "data": {
      "application/vnd.microsoft.datawrangler.viewer.v0+json": {
       "columns": [
        {
         "name": "index",
         "rawType": "int64",
         "type": "integer"
        },
        {
         "name": "date",
         "rawType": "datetime64[ns]",
         "type": "datetime"
        },
        {
         "name": "avg_sentiment",
         "rawType": "float64",
         "type": "float"
        },
        {
         "name": "daily_return",
         "rawType": "float64",
         "type": "float"
        }
       ],
       "ref": "9acd1f0d-cb5d-4f21-9621-6f84f9b63b54",
       "rows": [],
       "shape": {
        "columns": 3,
        "rows": 0
       }
      },
      "text/html": [
       "<div>\n",
       "<style scoped>\n",
       "    .dataframe tbody tr th:only-of-type {\n",
       "        vertical-align: middle;\n",
       "    }\n",
       "\n",
       "    .dataframe tbody tr th {\n",
       "        vertical-align: top;\n",
       "    }\n",
       "\n",
       "    .dataframe thead th {\n",
       "        text-align: right;\n",
       "    }\n",
       "</style>\n",
       "<table border=\"1\" class=\"dataframe\">\n",
       "  <thead>\n",
       "    <tr style=\"text-align: right;\">\n",
       "      <th></th>\n",
       "      <th>date</th>\n",
       "      <th>avg_sentiment</th>\n",
       "      <th>daily_return</th>\n",
       "    </tr>\n",
       "  </thead>\n",
       "  <tbody>\n",
       "  </tbody>\n",
       "</table>\n",
       "</div>"
      ],
      "text/plain": [
       "Empty DataFrame\n",
       "Columns: [date, avg_sentiment, daily_return]\n",
       "Index: []"
      ]
     },
     "execution_count": 7,
     "metadata": {},
     "output_type": "execute_result"
    }
   ],
   "source": [
    "# Ensure both DataFrames have the same date column name before merging\n",
    "sentiment_daily = sentiment_daily.rename(columns={\"date\": \"date\", \"Date\": \"date\"})\n",
    "returns_daily = returns_daily.rename(columns={\"date\": \"date\", \"Date\": \"date\"})\n",
    "\n",
    "# Merge on date\n",
    "merged = merge_sentiment_returns(sentiment_daily, returns_daily, date_col='date')\n",
    "merged.head()"
   ]
  },
  {
   "cell_type": "markdown",
   "id": "1a202f8d",
   "metadata": {},
   "source": [
    "## 8. Correlation Analysis\n",
    "Calculate the Pearson correlation coefficient between average daily sentiment and stock returns."
   ]
  },
  {
   "cell_type": "code",
   "execution_count": 8,
   "id": "c2728f99",
   "metadata": {},
   "outputs": [
    {
     "name": "stdout",
     "output_type": "stream",
     "text": [
      "Not enough data to compute correlation (need at least 2 valid data points).\n"
     ]
    }
   ],
   "source": [
    "# Compute correlation\n",
    "corr, pval = compute_correlation(merged)\n",
    "if corr is not None and pval is not None:\n",
    "    print(f\"Pearson correlation: {corr:.3f} (p-value: {pval:.3g})\")\n",
    "else:\n",
    "    print(\"Not enough data to compute correlation (need at least 2 valid data points).\")"
   ]
  },
  {
   "cell_type": "markdown",
   "id": "75d3c30e",
   "metadata": {},
   "source": [
    "## 9. Visualize the Relationship\n",
    "(Optional) Plot the relationship between daily sentiment and stock returns."
   ]
  },
  {
   "cell_type": "code",
   "execution_count": null,
   "id": "5c09c5e3",
   "metadata": {},
   "outputs": [],
   "source": [
    "import matplotlib.pyplot as plt\n",
    "\n",
    "if 'merged' in locals():\n",
    "    plt.figure(figsize=(8,5))\n",
    "    plt.scatter(merged['avg_sentiment'], merged['daily_return'], alpha=0.6)\n",
    "    plt.xlabel('Average Daily Sentiment')\n",
    "    plt.ylabel('Daily Stock Return')\n",
    "    plt.title('Sentiment vs. Stock Return')\n",
    "    plt.grid(True)\n",
    "    plt.show()\n",
    "else:\n",
    "    print(\"The variable 'merged' is not defined. Please run the previous cells to create it.\")"
   ]
  },
  {
   "cell_type": "markdown",
   "id": "b3c5ef03",
   "metadata": {},
   "source": [
    "## Additional Analysis\n",
    "### Plot 2: Stock Price Time Series\n",
    "Visualize the closing price of the stock over time."
   ]
  },
  {
   "cell_type": "code",
   "execution_count": null,
   "id": "5098b957",
   "metadata": {},
   "outputs": [],
   "source": [
    "# Plot 2: Stock Price Time Series\n",
    "plt.figure(figsize=(10,4))\n",
    "plt.plot(stock_df['Date'], stock_df['Close'], label='Close Price')\n",
    "plt.title('Stock Closing Price Over Time')\n",
    "plt.xlabel('Date')\n",
    "plt.ylabel('Close Price')\n",
    "plt.legend()\n",
    "plt.tight_layout()\n",
    "plt.show()"
   ]
  },
  {
   "cell_type": "markdown",
   "id": "1f323cd3",
   "metadata": {},
   "source": [
    "### Plot 3: News Volume by Date\n",
    "Visualize the number of news headlines published each day."
   ]
  },
  {
   "cell_type": "code",
   "execution_count": null,
   "id": "253445ba",
   "metadata": {},
   "outputs": [],
   "source": [
    "# Plot 3: News Volume by Date\n",
    "news_volume = news_df.copy()\n",
    "news_volume['date'] = pd.to_datetime(news_volume['date'], errors='coerce')\n",
    "daily_counts = news_volume['date'].dt.date.value_counts().sort_index()\n",
    "plt.figure(figsize=(10,4))\n",
    "daily_counts.plot(kind='bar')\n",
    "plt.title('Number of News Headlines per Day')\n",
    "plt.xlabel('Date')\n",
    "plt.ylabel('Headline Count')\n",
    "plt.tight_layout()\n",
    "plt.show()"
   ]
  },
  {
   "cell_type": "markdown",
   "id": "686d5692",
   "metadata": {},
   "source": [
    "### Plot 4: Sentiment Time Series\n",
    "Visualize the average daily sentiment over time, with an optional rolling average."
   ]
  },
  {
   "cell_type": "code",
   "execution_count": null,
   "id": "2ea512ef",
   "metadata": {},
   "outputs": [],
   "source": [
    "# Plot 4: Sentiment Time Series (rolling average)\n",
    "import matplotlib.pyplot as plt\n",
    "sentiment_daily_sorted = sentiment_daily.sort_values('date')\n",
    "plt.figure(figsize=(10,4))\n",
    "plt.plot(sentiment_daily_sorted['date'], sentiment_daily_sorted['avg_sentiment'], label='Daily Avg Sentiment', alpha=0.5)\n",
    "plt.plot(sentiment_daily_sorted['date'], sentiment_daily_sorted['avg_sentiment'].rolling(window=7, min_periods=1).mean(), label='7-day Rolling Avg', color='orange')\n",
    "plt.title('Sentiment Time Series (with 7-day Rolling Average)')\n",
    "plt.xlabel('Date')\n",
    "plt.ylabel('Average Sentiment')\n",
    "plt.legend()\n",
    "plt.tight_layout()\n",
    "plt.show()"
   ]
  },
  {
   "cell_type": "markdown",
   "id": "5e2892f5",
   "metadata": {},
   "source": [
    "### Table 1: Descriptive Statistics of Returns"
   ]
  },
  {
   "cell_type": "code",
   "execution_count": null,
   "id": "28c516be",
   "metadata": {},
   "outputs": [],
   "source": [
    "# Table 1: Descriptive Statistics of Returns\n",
    "returns_stats = returns_daily['daily_return'].describe().to_frame()\n",
    "returns_stats.loc['skew'] = returns_daily['daily_return'].skew()\n",
    "returns_stats.loc['kurtosis'] = returns_daily['daily_return'].kurtosis()\n",
    "display(returns_stats)"
   ]
  },
  {
   "cell_type": "markdown",
   "id": "6b024876",
   "metadata": {},
   "source": [
    "### Table 2: Correlation Results Table"
   ]
  },
  {
   "cell_type": "code",
   "execution_count": null,
   "id": "fa64f663",
   "metadata": {},
   "outputs": [],
   "source": [
    "# Table 2: Correlation Results Table (single stock template)\n",
    "import pandas as pd\n",
    "corr_table = pd.DataFrame({\n",
    "    'Stock': ['AAPL'],\n",
    "    'Correlation': [corr],\n",
    "    'p-value': [pval]\n",
    "})\n",
    "display(corr_table)"
   ]
  },
  {
   "cell_type": "markdown",
   "id": "9eefb91e",
   "metadata": {},
   "source": [
    "---\n",
    "### References\n",
    "- [TextBlob Documentation](https://textblob.readthedocs.io/en/dev/)\n",
    "- [Pearson Correlation (scipy)](https://docs.scipy.org/doc/scipy/reference/generated/scipy.stats.pearsonr.html)"
   ]
  }
 ],
 "metadata": {
  "kernelspec": {
   "display_name": ".venv312",
   "language": "python",
   "name": "python3"
  },
  "language_info": {
   "codemirror_mode": {
    "name": "ipython",
    "version": 3
   },
   "file_extension": ".py",
   "mimetype": "text/x-python",
   "name": "python",
   "nbconvert_exporter": "python",
   "pygments_lexer": "ipython3",
   "version": "3.12.0"
  }
 },
 "nbformat": 4,
 "nbformat_minor": 5
}
