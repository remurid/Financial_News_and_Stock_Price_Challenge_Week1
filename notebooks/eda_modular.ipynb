{
 "cells": [
  {
   "cell_type": "markdown",
   "id": "beb1bfc2",
   "metadata": {},
   "source": [
    "# Exploratory Data Analysis (EDA)\n",
    "This notebook demonstrates modular EDA using functions from `src/eda.py`."
   ]
  },
  {
   "cell_type": "code",
   "execution_count": 10,
   "id": "bb274d3a",
   "metadata": {},
   "outputs": [],
   "source": [
    "import sys\n",
    "sys.path.append('../src')\n",
    "import eda"
   ]
  },
  {
   "cell_type": "code",
   "execution_count": 11,
   "id": "bc3daf1f",
   "metadata": {},
   "outputs": [
    {
     "data": {
      "application/vnd.microsoft.datawrangler.viewer.v0+json": {
       "columns": [
        {
         "name": "index",
         "rawType": "int64",
         "type": "integer"
        },
        {
         "name": "Unnamed: 0",
         "rawType": "int64",
         "type": "integer"
        },
        {
         "name": "headline",
         "rawType": "object",
         "type": "string"
        },
        {
         "name": "url",
         "rawType": "object",
         "type": "string"
        },
        {
         "name": "publisher",
         "rawType": "object",
         "type": "string"
        },
        {
         "name": "date",
         "rawType": "object",
         "type": "string"
        },
        {
         "name": "stock",
         "rawType": "object",
         "type": "string"
        }
       ],
       "ref": "6e7f4ba9-8c03-4185-93f8-bcb348d11b0c",
       "rows": [
        [
         "0",
         "0",
         "Stocks That Hit 52-Week Highs On Friday",
         "https://www.benzinga.com/news/20/06/16190091/stocks-that-hit-52-week-highs-on-friday",
         "Benzinga Insights",
         "2020-06-05 10:30:54-04:00",
         "A"
        ],
        [
         "1",
         "1",
         "Stocks That Hit 52-Week Highs On Wednesday",
         "https://www.benzinga.com/news/20/06/16170189/stocks-that-hit-52-week-highs-on-wednesday",
         "Benzinga Insights",
         "2020-06-03 10:45:20-04:00",
         "A"
        ],
        [
         "2",
         "2",
         "71 Biggest Movers From Friday",
         "https://www.benzinga.com/news/20/05/16103463/71-biggest-movers-from-friday",
         "Lisa Levin",
         "2020-05-26 04:30:07-04:00",
         "A"
        ],
        [
         "3",
         "3",
         "46 Stocks Moving In Friday's Mid-Day Session",
         "https://www.benzinga.com/news/20/05/16095921/46-stocks-moving-in-fridays-mid-day-session",
         "Lisa Levin",
         "2020-05-22 12:45:06-04:00",
         "A"
        ],
        [
         "4",
         "4",
         "B of A Securities Maintains Neutral on Agilent Technologies, Raises Price Target to $88",
         "https://www.benzinga.com/news/20/05/16095304/b-of-a-securities-maintains-neutral-on-agilent-technologies-raises-price-target-to-88",
         "Vick Meyer",
         "2020-05-22 11:38:59-04:00",
         "A"
        ]
       ],
       "shape": {
        "columns": 6,
        "rows": 5
       }
      },
      "text/html": [
       "<div>\n",
       "<style scoped>\n",
       "    .dataframe tbody tr th:only-of-type {\n",
       "        vertical-align: middle;\n",
       "    }\n",
       "\n",
       "    .dataframe tbody tr th {\n",
       "        vertical-align: top;\n",
       "    }\n",
       "\n",
       "    .dataframe thead th {\n",
       "        text-align: right;\n",
       "    }\n",
       "</style>\n",
       "<table border=\"1\" class=\"dataframe\">\n",
       "  <thead>\n",
       "    <tr style=\"text-align: right;\">\n",
       "      <th></th>\n",
       "      <th>Unnamed: 0</th>\n",
       "      <th>headline</th>\n",
       "      <th>url</th>\n",
       "      <th>publisher</th>\n",
       "      <th>date</th>\n",
       "      <th>stock</th>\n",
       "    </tr>\n",
       "  </thead>\n",
       "  <tbody>\n",
       "    <tr>\n",
       "      <th>0</th>\n",
       "      <td>0</td>\n",
       "      <td>Stocks That Hit 52-Week Highs On Friday</td>\n",
       "      <td>https://www.benzinga.com/news/20/06/16190091/s...</td>\n",
       "      <td>Benzinga Insights</td>\n",
       "      <td>2020-06-05 10:30:54-04:00</td>\n",
       "      <td>A</td>\n",
       "    </tr>\n",
       "    <tr>\n",
       "      <th>1</th>\n",
       "      <td>1</td>\n",
       "      <td>Stocks That Hit 52-Week Highs On Wednesday</td>\n",
       "      <td>https://www.benzinga.com/news/20/06/16170189/s...</td>\n",
       "      <td>Benzinga Insights</td>\n",
       "      <td>2020-06-03 10:45:20-04:00</td>\n",
       "      <td>A</td>\n",
       "    </tr>\n",
       "    <tr>\n",
       "      <th>2</th>\n",
       "      <td>2</td>\n",
       "      <td>71 Biggest Movers From Friday</td>\n",
       "      <td>https://www.benzinga.com/news/20/05/16103463/7...</td>\n",
       "      <td>Lisa Levin</td>\n",
       "      <td>2020-05-26 04:30:07-04:00</td>\n",
       "      <td>A</td>\n",
       "    </tr>\n",
       "    <tr>\n",
       "      <th>3</th>\n",
       "      <td>3</td>\n",
       "      <td>46 Stocks Moving In Friday's Mid-Day Session</td>\n",
       "      <td>https://www.benzinga.com/news/20/05/16095921/4...</td>\n",
       "      <td>Lisa Levin</td>\n",
       "      <td>2020-05-22 12:45:06-04:00</td>\n",
       "      <td>A</td>\n",
       "    </tr>\n",
       "    <tr>\n",
       "      <th>4</th>\n",
       "      <td>4</td>\n",
       "      <td>B of A Securities Maintains Neutral on Agilent...</td>\n",
       "      <td>https://www.benzinga.com/news/20/05/16095304/b...</td>\n",
       "      <td>Vick Meyer</td>\n",
       "      <td>2020-05-22 11:38:59-04:00</td>\n",
       "      <td>A</td>\n",
       "    </tr>\n",
       "  </tbody>\n",
       "</table>\n",
       "</div>"
      ],
      "text/plain": [
       "   Unnamed: 0                                           headline  \\\n",
       "0           0            Stocks That Hit 52-Week Highs On Friday   \n",
       "1           1         Stocks That Hit 52-Week Highs On Wednesday   \n",
       "2           2                      71 Biggest Movers From Friday   \n",
       "3           3       46 Stocks Moving In Friday's Mid-Day Session   \n",
       "4           4  B of A Securities Maintains Neutral on Agilent...   \n",
       "\n",
       "                                                 url          publisher  \\\n",
       "0  https://www.benzinga.com/news/20/06/16190091/s...  Benzinga Insights   \n",
       "1  https://www.benzinga.com/news/20/06/16170189/s...  Benzinga Insights   \n",
       "2  https://www.benzinga.com/news/20/05/16103463/7...         Lisa Levin   \n",
       "3  https://www.benzinga.com/news/20/05/16095921/4...         Lisa Levin   \n",
       "4  https://www.benzinga.com/news/20/05/16095304/b...         Vick Meyer   \n",
       "\n",
       "                        date stock  \n",
       "0  2020-06-05 10:30:54-04:00     A  \n",
       "1  2020-06-03 10:45:20-04:00     A  \n",
       "2  2020-05-26 04:30:07-04:00     A  \n",
       "3  2020-05-22 12:45:06-04:00     A  \n",
       "4  2020-05-22 11:38:59-04:00     A  "
      ]
     },
     "execution_count": 11,
     "metadata": {},
     "output_type": "execute_result"
    }
   ],
   "source": [
    "# Load data\n",
    "df = eda.load_data('../data/raw_analyst_ratings.csv')\n",
    "df.head()"
   ]
  },
  {
   "cell_type": "code",
   "execution_count": 12,
   "id": "75a898f5",
   "metadata": {},
   "outputs": [
    {
     "data": {
      "application/vnd.microsoft.datawrangler.viewer.v0+json": {
       "columns": [
        {
         "name": "index",
         "rawType": "object",
         "type": "string"
        },
        {
         "name": "headline_length",
         "rawType": "float64",
         "type": "float"
        }
       ],
       "ref": "19c10af8-7bab-4375-ac2d-59905d0d5889",
       "rows": [
        [
         "count",
         "1407328.0"
        ],
        [
         "mean",
         "73.12051490484095"
        ],
        [
         "std",
         "40.73530993195065"
        ],
        [
         "min",
         "3.0"
        ],
        [
         "25%",
         "47.0"
        ],
        [
         "50%",
         "64.0"
        ],
        [
         "75%",
         "87.0"
        ],
        [
         "max",
         "512.0"
        ]
       ],
       "shape": {
        "columns": 1,
        "rows": 8
       }
      },
      "text/plain": [
       "count    1.407328e+06\n",
       "mean     7.312051e+01\n",
       "std      4.073531e+01\n",
       "min      3.000000e+00\n",
       "25%      4.700000e+01\n",
       "50%      6.400000e+01\n",
       "75%      8.700000e+01\n",
       "max      5.120000e+02\n",
       "Name: headline_length, dtype: float64"
      ]
     },
     "execution_count": 12,
     "metadata": {},
     "output_type": "execute_result"
    }
   ],
   "source": [
    "# Add headline length\n",
    "df = eda.add_headline_length(df)\n",
    "eda.describe_headline_length(df)"
   ]
  },
  {
   "cell_type": "code",
   "execution_count": 13,
   "id": "144bcbe5",
   "metadata": {},
   "outputs": [
    {
     "data": {
      "application/vnd.microsoft.datawrangler.viewer.v0+json": {
       "columns": [
        {
         "name": "publisher",
         "rawType": "object",
         "type": "string"
        },
        {
         "name": "count",
         "rawType": "int64",
         "type": "integer"
        }
       ],
       "ref": "3680a9c7-93ec-4a49-a366-1ab20541fcf6",
       "rows": [
        [
         "Paul Quintaro",
         "228373"
        ],
        [
         "Lisa Levin",
         "186979"
        ],
        [
         "Benzinga Newsdesk",
         "150484"
        ],
        [
         "Charles Gross",
         "96732"
        ],
        [
         "Monica Gerson",
         "82380"
        ],
        [
         "Eddie Staley",
         "57254"
        ],
        [
         "Hal Lindon",
         "49047"
        ],
        [
         "ETF Professor",
         "28489"
        ],
        [
         "Juan Lopez",
         "28438"
        ],
        [
         "Benzinga Staff",
         "28114"
        ],
        [
         "Vick Meyer",
         "24826"
        ],
        [
         "webmaster",
         "20313"
        ],
        [
         "Benzinga_Newsdesk",
         "19410"
        ],
        [
         "Zacks",
         "19390"
        ],
        [
         "Jayson Derrick",
         "19050"
        ],
        [
         "Allie Wickman",
         "18317"
        ],
        [
         "Shanthi Rexaline",
         "16640"
        ],
        [
         "Craig Jones",
         "16221"
        ],
        [
         "Wayne Duggan",
         "12897"
        ],
        [
         "Nelson Hem",
         "12590"
        ],
        [
         "Dwight Einhorn",
         "12226"
        ],
        [
         "Michael J. Zerinskas",
         "10892"
        ],
        [
         "Joe Young",
         "10777"
        ],
        [
         "Javier Hasse",
         "8839"
        ],
        [
         "David Johnson",
         "8749"
        ],
        [
         "Matthew Kennedy",
         "8167"
        ],
        [
         "Forex Live",
         "7198"
        ],
        [
         "Laura Brodbeck",
         "7069"
        ],
        [
         "Scott Rubin",
         "6553"
        ],
        [
         "Jake L'Ecuyer",
         "5810"
        ],
        [
         "Roger Nachman",
         "5510"
        ],
        [
         "luke@benzinga.com",
         "5198"
        ],
        [
         "Jonathan Chen",
         "4795"
        ],
        [
         "Garrett Cook",
         "4646"
        ],
        [
         "Benzinga Insights",
         "4371"
        ],
        [
         "Benzinga Staff 5",
         "4068"
        ],
        [
         "optionsXpress",
         "3842"
        ],
        [
         "Manikandan Raman",
         "3837"
        ],
        [
         "Elizabeth Balboa",
         "3804"
        ],
        [
         "Benzinga News Desk",
         "3782"
        ],
        [
         "BenzingaStaffJ",
         "3616"
        ],
        [
         "Jim Swanson",
         "3606"
        ],
        [
         "JJ Kinahan",
         "3583"
        ],
        [
         "Benzinga Newsdesk",
         "3580"
        ],
        [
         "John Seward",
         "3576"
        ],
        [
         "FreightWaves",
         "3543"
        ],
        [
         "Matthew Kanterman",
         "3218"
        ],
        [
         "Louis Bedigian",
         "2976"
        ],
        [
         "Brett Hershman",
         "2859"
        ],
        [
         "Daniel Hayden IV",
         "2813"
        ]
       ],
       "shape": {
        "columns": 1,
        "rows": 1034
       }
      },
      "text/plain": [
       "publisher\n",
       "Paul Quintaro        228373\n",
       "Lisa Levin           186979\n",
       "Benzinga Newsdesk    150484\n",
       "Charles Gross         96732\n",
       "Monica Gerson         82380\n",
       "                      ...  \n",
       "MoneyGeek                 1\n",
       "muathe                    1\n",
       "Robert Morris             1\n",
       "LeftCoastHedgie           1\n",
       "Jeremie Capron            1\n",
       "Name: count, Length: 1034, dtype: int64"
      ]
     },
     "execution_count": 13,
     "metadata": {},
     "output_type": "execute_result"
    }
   ],
   "source": [
    "# Articles per publisher\n",
    "eda.count_articles_per_publisher(df)"
   ]
  },
  {
   "cell_type": "code",
   "execution_count": 14,
   "id": "8fe3d3fc",
   "metadata": {},
   "outputs": [
    {
     "data": {
      "image/png": "[encoded data removed]",
      "text/plain": [
       "<Figure size 1000x400 with 1 Axes>"
      ]
     },
     "metadata": {},
     "output_type": "display_data"
    }
   ],
   "source": [
    "# Ensure 'date' column is parsed correctly and handle tz-aware/tz-naive issues\n",
    "df = eda.parse_date_column(df, date_col='date')\n",
    "\n",
    "# Plot articles per day\n",
    "eda.plot_articles_per_day(df)"
   ]
  },
  {
   "cell_type": "code",
   "execution_count": 15,
   "id": "db063d88",
   "metadata": {},
   "outputs": [
    {
     "data": {
      "text/plain": [
       "array(['announces', 'benzinga', 'buy', 'downgrades', 'earnings', 'eps',\n",
       "       'est', 'market', 'mid', 'price', 'pt', 'raises', 'reports',\n",
       "       'sales', 'shares', 'stocks', 'trading', 'update', 'vs', 'week'],\n",
       "      dtype=object)"
      ]
     },
     "execution_count": 15,
     "metadata": {},
     "output_type": "execute_result"
    }
   ],
   "source": [
    "# Extract top keywords\n",
    "eda.extract_top_keywords(df)"
   ]
  },
  {
   "cell_type": "code",
   "execution_count": 16,
   "id": "3381c422",
   "metadata": {},
   "outputs": [
    {
     "data": {
      "image/png": "[encoded data removed]",
      "text/plain": [
       "<Figure size 1000x400 with 1 Axes>"
      ]
     },
     "metadata": {},
     "output_type": "display_data"
    }
   ],
   "source": [
    "# Plot weekly article count\n",
    "eda.plot_weekly_article_count(df)"
   ]
  },
  {
   "cell_type": "code",
   "execution_count": 17,
   "id": "311c5173",
   "metadata": {},
   "outputs": [
    {
     "data": {
      "application/vnd.microsoft.datawrangler.viewer.v0+json": {
       "columns": [
        {
         "name": "publisher_domain",
         "rawType": "object",
         "type": "string"
        },
        {
         "name": "count",
         "rawType": "int64",
         "type": "integer"
        }
       ],
       "ref": "5c4fe6c9-0c94-44a5-918c-f31d218eb435",
       "rows": [
        [
         "benzinga.com",
         "7937"
        ],
        [
         "gmail.com",
         "139"
        ],
        [
         "andyswan.com",
         "5"
        ],
        [
         "investdiva.com",
         "2"
        ],
        [
         "tothetick.com",
         "2"
        ],
        [
         "eosdetroit.io",
         "1"
        ],
        [
         "forextraininggroup.com",
         "1"
        ],
        [
         "stockmetrix.net",
         "1"
        ]
       ],
       "shape": {
        "columns": 1,
        "rows": 8
       }
      },
      "text/plain": [
       "publisher_domain\n",
       "benzinga.com              7937\n",
       "gmail.com                  139\n",
       "andyswan.com                 5\n",
       "investdiva.com               2\n",
       "tothetick.com                2\n",
       "eosdetroit.io                1\n",
       "forextraininggroup.com       1\n",
       "stockmetrix.net              1\n",
       "Name: count, dtype: int64"
      ]
     },
     "execution_count": 17,
     "metadata": {},
     "output_type": "execute_result"
    }
   ],
   "source": [
    "# Publisher domain analysis\n",
    "eda.publisher_domain_analysis(df)"
   ]
  }
 ],
 "metadata": {
  "kernelspec": {
   "display_name": ".week1_env",
   "language": "python",
   "name": "python3"
  },
  "language_info": {
   "codemirror_mode": {
    "name": "ipython",
    "version": 3
   },
   "file_extension": ".py",
   "mimetype": "text/x-python",
   "name": "python",
   "nbconvert_exporter": "python",
   "pygments_lexer": "ipython3",
   "version": "3.13.3"
  }
 },
 "nbformat": 4,
 "nbformat_minor": 5
}
