{
 "cells": [
  {
   "cell_type": "markdown",
   "id": "beb1bfc2",
   "metadata": {},
   "source": [
    "# Exploratory Data Analysis (EDA)\n",
    "This notebook demonstrates modular EDA using functions from `src/eda.py`."
   ]
  },
  {
   "cell_type": "code",
   "execution_count": null,
   "id": "bb274d3a",
   "metadata": {},
   "outputs": [],
   "source": [
    "import sys\n",
    "sys.path.append('../src')\n",
    "import eda"
   ]
  },
  {
   "cell_type": "code",
   "execution_count": null,
   "id": "bc3daf1f",
   "metadata": {},
   "outputs": [],
   "source": [
    "# Load data\n",
    "df = eda.load_data('../data/raw_analyst_ratings.csv')\n",
    "df.head()"
   ]
  },
  {
   "cell_type": "code",
   "execution_count": null,
   "id": "75a898f5",
   "metadata": {},
   "outputs": [],
   "source": [
    "# Add headline length\n",
    "df = eda.add_headline_length(df)\n",
    "eda.describe_headline_length(df)"
   ]
  },
  {
   "cell_type": "code",
   "execution_count": null,
   "id": "144bcbe5",
   "metadata": {},
   "outputs": [],
   "source": [
    "# Articles per publisher\n",
    "eda.count_articles_per_publisher(df)"
   ]
  },
  {
   "cell_type": "code",
   "execution_count": null,
   "id": "8fe3d3fc",
   "metadata": {},
   "outputs": [],
   "source": [
    "# Ensure 'date' column is parsed correctly and handle tz-aware/tz-naive issues\n",
    "df = eda.parse_date_column(df, date_col='date')\n",
    "\n",
    "# Plot articles per day\n",
    "eda.plot_articles_per_day(df)"
   ]
  },
  {
   "cell_type": "code",
   "execution_count": null,
   "id": "db063d88",
   "metadata": {},
   "outputs": [],
   "source": [
    "# Extract top keywords\n",
    "eda.extract_top_keywords(df)"
   ]
  },
  {
   "cell_type": "code",
   "execution_count": null,
   "id": "3381c422",
   "metadata": {},
   "outputs": [],
   "source": [
    "# Plot weekly article count\n",
    "eda.plot_weekly_article_count(df)"
   ]
  },
  {
   "cell_type": "code",
   "execution_count": null,
   "id": "311c5173",
   "metadata": {},
   "outputs": [],
   "source": [
    "# Publisher domain analysis\n",
    "eda.publisher_domain_analysis(df)"
   ]
  }
 ],
 "metadata": {
  "kernelspec": {
   "display_name": ".week1_env",
   "language": "python",
   "name": "python3"
  },
  "language_info": {
   "codemirror_mode": {
    "name": "ipython",
    "version": 3
   },
   "file_extension": ".py",
   "mimetype": "text/x-python",
   "name": "python",
   "nbconvert_exporter": "python",
   "pygments_lexer": "ipython3",
   "version": "3.13.3"
  }
 },
 "nbformat": 4,
 "nbformat_minor": 5
}
