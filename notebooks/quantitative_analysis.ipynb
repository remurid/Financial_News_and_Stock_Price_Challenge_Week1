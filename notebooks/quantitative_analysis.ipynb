{
 "cells": [
  {
   "cell_type": "markdown",
   "id": "7ed3a695",
   "metadata": {},
   "source": [
    "# Quantitative Analysis: Stock Price Technical Indicators\n",
    "This notebook demonstrates how to load stock price data, calculate technical indicators using TA-Lib, and visualize the results using a modular approach."
   ]
  },
  {
   "cell_type": "code",
   "execution_count": null,
   "id": "d243fc5f",
   "metadata": {},
   "outputs": [],
   "source": [
    "# Import required libraries and QuantAnalysis class\n",
    "import sys\n",
    "sys.path.append('../src')\n",
    "from quant_analysis import QuantAnalysis\n",
    "import pandas as pd"
   ]
  },
  {
   "cell_type": "markdown",
   "id": "c1591076",
   "metadata": {},
   "source": [
    "## 1. Load and Prepare Stock Price Data\n",
    "We load historical stock price data for a selected ticker (e.g., AAPL) and ensure it contains the required columns: Open, High, Low, Close, and Volume."
   ]
  },
  {
   "cell_type": "code",
   "execution_count": null,
   "id": "c00cb0d1",
   "metadata": {},
   "outputs": [],
   "source": [
    "# Load stock price data for AAPL\n",
    "df = QuantAnalysis.load_stock_data('../data/yfinance_data/AAPL_historical_data.csv')\n",
    "df.head()"
   ]
  },
  {
   "cell_type": "markdown",
   "id": "9b7fa132",
   "metadata": {},
   "source": [
    "## 2. Calculate Technical Indicators\n",
    "We use TA-Lib to calculate the 20-day Simple Moving Average (SMA), 14-day Relative Strength Index (RSI), and MACD (Moving Average Convergence Divergence)."
   ]
  },
  {
   "cell_type": "code",
   "execution_count": null,
   "id": "83ef5079",
   "metadata": {},
   "outputs": [],
   "source": [
    "# Calculate technical indicators\n",
    "df = QuantAnalysis.calculate_technical_indicators(df)\n",
    "df[['Close', 'SMA_20', 'RSI_14', 'MACD', 'MACD_signal', 'MACD_hist']].tail()"
   ]
  },
  {
   "cell_type": "markdown",
   "id": "2017b9c6",
   "metadata": {},
   "source": [
    "## 3. Visualize Technical Indicators\n",
    "We visualize the Close price, SMA, RSI, and MACD to better understand the stock's price action and indicator signals."
   ]
  },
  {
   "cell_type": "code",
   "execution_count": null,
   "id": "c21dd757",
   "metadata": {},
   "outputs": [],
   "source": [
    "# Visualize technical indicators\n",
    "QuantAnalysis.plot_technical_indicators(df, ticker='AAPL')"
   ]
  },
  {
   "cell_type": "markdown",
   "id": "00a1eaac",
   "metadata": {},
   "source": [
    "## 4. (Optional) Fetch Financial Metrics with PyNance\n",
    "You can use PyNance to fetch additional financial metrics for deeper analysis."
   ]
  },
  {
   "cell_type": "code",
   "execution_count": null,
   "id": "e9a977d4",
   "metadata": {},
   "outputs": [],
   "source": [
    "# Example: Fetch historical data using PyNance (requires internet access)\n",
    "# metrics = QuantAnalysis.get_pynance_metrics('AAPL', '2023-01-01', '2023-12-31')\n",
    "# metrics.head()"
   ]
  },
  {
   "cell_type": "markdown",
   "id": "060c5110",
   "metadata": {},
   "source": [
    "---\n",
    "**References:**\n",
    "- [TA-Lib Documentation](https://mrjbq7.github.io/ta-lib/)\n",
    "- [PyNance Documentation](https://pynance.readthedocs.io/en/latest/)\n",
    "- [Pandas Documentation](https://pandas.pydata.org/)"
   ]
  }
 ],
 "metadata": {
  "language_info": {
   "name": "python"
  }
 },
 "nbformat": 4,
 "nbformat_minor": 5
}
